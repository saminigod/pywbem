{
 "cells": [
  {
   "cell_type": "markdown",
   "metadata": {},
   "source": [
    "# The Iterable Response Requests"
   ]
  },
  {
   "cell_type": "markdown",
   "metadata": {},
   "source": [
    "## Table of Contents"
   ]
  },
  {
   "cell_type": "markdown",
   "metadata": {},
   "source": [
    "## Overview of the Iter... CIM_Operations\n",
    "\n",
    "### Why\n",
    "As of PyWBEM 10, a new set of methods was added to the WBEMConnection methods that provide an overlay over the\n",
    "Pywbem Pull operations to provide:\n",
    "    \n",
    "1. An interface that is consistent whether the user is executing the Pull Operations or their equivalent not pull operations\n",
    "\n",
    "2. An interface that use the Python iterable interface to get instances or paths from the response in place of lists or\n",
    "tuples as required for the Pull and non_pull operations.\n",
    "\n",
    "3. An interface that allows the user to utilize pull or non-pull operations with just an attribute change in WBEMConnection\n",
    "\n",
    "4. An interface that automatically attempts to use Pull Operations and if a particular WBEM Server does not support them falls back\n",
    "to the non-pull equivalent operations\n",
    "\n",
    "### Request Comparison Table\n",
    "\n",
    "The CIM/XML pull operations parallel to the previous CIM/XML operations as follows\n",
    "\n",
    "*Original Operation*   | *Equivalent Pull Operations*                     | Iter Operations\n",
    " :-                    |:-                                                | :-\n",
    "EnumerateInstances     | OpenEnumerateInstances / PullInstancesWithPath   | IterEnumerateInstances\n",
    "EnumerateInstanceNames | OpenEnumerateInstancePaths / PullInstancesPaths  | InterEnumerateInstancePaths\n",
    "Associators            | OpenAssociatorInstances / PullInstancesWithPath  | IterAssociatorInstances\n",
    "AssociatorNames        | OpenAssociatorPaths / PullInstancesPaths         | IterAssociatorPaths\n",
    "References             | OpenReferenceInstances / PullInstancesWithPath   | IterReferenceInstances\n",
    "ReferenceNames         | OpenReferencesPaths / PullInstancesPaths         | IterReferencePaths\n",
    "ExecQuery              | OpenQueryInstances / PullInstances               | IterQueryInstances\n",
    "\n",
    "The Iter... operation requests use the same request parameters as the Open... operations with the following exceptions:\n",
    "\n",
    "1. If MaxObjectCount is not supplied it is set from a default to a non-zero integer since this is the MaxObjectCount used both by the Open and the Pull operations.\n",
    "\n",
    "The general pattern for use of these operations is:\n",
    "\n",
    "::\n",
    "    try:\n",
    "        iterator = Iter(...)\n",
    "        for object in iterator:\n",
    "            . .. process the object returned\n",
    "    except Error as er:\n",
    "    \n",
    "These operations use the Python generator paradigm so that the for loop processes response objects as then are received\n",
    "via Open and Pull operations\n",
    "\n",
    "### Internal Paradigm\n",
    "\n",
    "These operations use the existing Open/Pull or original requests and lay a layer over them to determine if the\n",
    "pull operations can be used and to manage the iteration\n",
    "\n",
    "   try:\n",
    "       result = Open...\n",
    "          for object in result.object\n",
    "              yield object\n",
    "          while not result.eos\n",
    "              result = Pull...\n",
    "                  for object in result.object:\n",
    "                      yield object\n",
    "    except CIMError as ce\n",
    "        if ce.status_code |= \"CIMERR_NOT_SUPPORTED:\n",
    "        raise ce\n",
    "    else:\n",
    "        <originalOperation>(...)\n",
    "\n",
    "### Forcing Pull vs NonPull operations\n",
    "\n",
    "A parameter has been added to the [`pywbem.WBEMConnection`](https://pywbem.readthedocs.io/en/latest/client.html#pywbem.WBEMConnection) constructor to optionally force the use of either the pull\n",
    "operations or the original operations.\n",
    "\n",
    "* If `use_pull_operations` is set to True only the pull operation will be executed and if this fails for any\n",
    "reason including  `CIM_ERR_NOT_SUPPORTED` the exception will be returned.\n",
    "\n",
    "* If `use_pull_operations` is set to False only the original operation will be executed and if this fails for any\n",
    "reason, the exception will be returned.\n",
    "\n",
    "* The default is `None`. In this case, first the pull sequence is attempted. If the first request returns `CIM_ERR_NOT_SUPPORTED`, the corresponding non-pull request will be attempted.\n",
    "\n",
    "This parameter `use_pull_operations` defaults to `None`.\n",
    "\n",
    "Thus, the Iter operations can be used to execute exclusively the original operations by simply setting `use_pull_operations = False`.\n",
    "\n",
    "::\n",
    "\n",
    "    conn = pywbem.WBEMConnection(server, (username, password),\n",
    "                             default_namespace=namespace,\n",
    "                             no_verification=True,\n",
    "                             use_pull_operations=False)\n",
    "\n",
    "\n",
    "\n",
    "### Differences between Iter operations and the lower level operations\n",
    "\n",
    "### Use of QueryFilters\n",
    "\n",
    "Since the original operations did not incorporate the query filters, if a query filter is included in the request\n",
    "and the request is passed to the original operation, the request will be refused and an exception generated.\n",
    "\n",
    "### Response Paths\n",
    "\n",
    "Since the response paths requirements on returned instances differe between pull and non-pull operations the data the client code acts to bring the path into line with the requirements of the pull operations responses if the original\n",
    "operation was executed.\n",
    "\n",
    "### Use of MaxObjectCount\n",
    "\n",
    "The MaxObjectCount is somewhat more limited than if the pull operations are used directly in that:\n",
    "\n",
    "1. It is the same value for open and pull requests\n",
    "2. The mechanism to delay responses (setting MaxObjectCount=0 and executing a Pull request) cannot be used so the interoperation timeout must be sufficient for the client to complete its requests.\n",
    "\n",
    "### Closing a pull operation before it is complete\n",
    "\n",
    "An operation may be closed before the processing from the server is complete by executing the generator `close()`\n",
    "function:\n",
    "\n",
    "::\n",
    "\n",
    "    iterator = conn.IterEnumerateInstances(classname, MaxObjectCount=max_obj_cnt)\n",
    "    for inst in iterator\n",
    "    if <fails some test>\n",
    "        insts_iterator.close()\n",
    "    else:\n",
    "        <process instance>\n",
    "\n",
    "Note that if the operation executed was the EnumerateInstances rather than the pull operations, the close() will do\n",
    "nothing since the response instances are received as a single block.\n"
   ]
  },
  {
   "cell_type": "markdown",
   "metadata": {},
   "source": [
    "## IterEnumerateInstances()"
   ]
  },
  {
   "cell_type": "markdown",
   "metadata": {
    "collapsed": true
   },
   "source": [
    "The following code executes the iterator cim operation [`IterEnumerateInstances()`](https://pywbem.readthedocs.io/en/latest/client.html#pywbem.WBEMConnection.IterEnumerateInstances)\n",
    "to enumerate instances of a class. \n",
    "\n",
    "The operation returns an iterator.  The for loop processes that iterator.  Since the iterator is actually a Python generator it waits in the WBEMConnection.IterEnumerateInstances() method until the next instance is available from\n",
    "the server.\n",
    "                                                                                    "
   ]
  },
  {
   "cell_type": "code",
   "execution_count": null,
   "metadata": {
    "collapsed": false
   },
   "outputs": [],
   "source": [
    "from __future__ import print_function\n",
    "import pywbem\n",
    "\n",
    "username = 'user'\n",
    "password = 'password'\n",
    "classname = 'CIM_ComputerSystem'\n",
    "namespace = 'root/cimv2'\n",
    "server = 'http://localhost'\n",
    "max_obj_cnt = 100\n",
    "\n",
    "from __future__ import print_function\n",
    "import pywbem\n",
    "\n",
    "username = 'user'\n",
    "password = 'password'\n",
    "classname = 'CIM_ComputerSystem'\n",
    "namespace = 'root/cimv2'\n",
    "server = 'http://localhost'\n",
    "max_obj_cnt = 100\n",
    "\n",
    "conn = pywbem.WBEMConnection(server, (username, password),\n",
    "                             default_namespace=namespace,\n",
    "                             no_verification=True)\n",
    "\n",
    "try:\n",
    "    iterator = conn.IterEnumerateInstances(classname, MaxObjectCount=max_obj_cnt)\n",
    "    for instance in iterator:\n",
    "        print('path=%s' % instance.path)\n",
    "        print(instance.tomof())                                 \n",
    "except pywbem.Error as exc:\n",
    "    print('Operation failed: %s' % exc)"
   ]
  },
  {
   "cell_type": "markdown",
   "metadata": {},
   "source": [
    "In this example (and the examples below), the connection has a default namespace set. This allows us to omit the namespace from the subsequent [`IterEnumerateInstances()`](https://pywbem.readthedocs.io/en/latest/client.html#pywbem.WBEMConnection.IterEnumerateInstances) method.\n",
    "\n",
    "This example also shows exception handling with PyWBEM: PyWBEM wraps any exceptions that are considered runtime errors, and raises them as subclasses of [`pywbem.Error`](https://pywbem.readthedocs.io/en/latest/client.html#pywbem.Error). Any other exceptions are considered programming errors. Therefore, the code above only needs to catch [`pywbem.Error`](https://pywbem.readthedocs.io/en/latest/client.html#pywbem.Error).\n",
    "\n",
    "Note that the creation of the [`pywbem.WBEMConnection`](https://pywbem.readthedocs.io/en/latest/client.html#pywbem.WBEMConnection) object in the code above does not need to be protected by exception handling; its initialization code does not raise any PyWBEM runtime errors."
   ]
  },
  {
   "cell_type": "markdown",
   "metadata": {},
   "source": [
    "## IterEnumerateInstancePaths()"
   ]
  },
  {
   "cell_type": "code",
   "execution_count": null,
   "metadata": {
    "collapsed": true
   },
   "outputs": [],
   "source": [
    "Documentation"
   ]
  },
  {
   "cell_type": "code",
   "execution_count": null,
   "metadata": {
    "collapsed": false
   },
   "outputs": [],
   "source": [
    "#  Globals are imported from the first example\n",
    "\n",
    "conn = pywbem.WBEMConnection(server, (username, password),\n",
    "                             default_namespace=namespace,\n",
    "                             no_verification=True)\n",
    "\n",
    "try:\n",
    "    iterator = conn.IterEnumerateInstancePaths(classname, MaxObjectCount=max_obj_cnt)\n",
    "    for path in iterator:\n",
    "        print('path=%s' % path)                               \n",
    "except pywbem.Error as exc:\n",
    "    print('Operation failed: %s' % exc)"
   ]
  },
  {
   "cell_type": "code",
   "execution_count": null,
   "metadata": {
    "collapsed": true
   },
   "outputs": [],
   "source": [
    "## IterAssociatorInstances"
   ]
  },
  {
   "cell_type": "code",
   "execution_count": null,
   "metadata": {
    "collapsed": true
   },
   "outputs": [],
   "source": [
    "TODO doc"
   ]
  },
  {
   "cell_type": "code",
   "execution_count": null,
   "metadata": {
    "collapsed": true
   },
   "outputs": [],
   "source": [
    "TODO Code"
   ]
  },
  {
   "cell_type": "code",
   "execution_count": null,
   "metadata": {
    "collapsed": true
   },
   "outputs": [],
   "source": [
    "## IterAssociatorPaths"
   ]
  },
  {
   "cell_type": "code",
   "execution_count": null,
   "metadata": {
    "collapsed": true
   },
   "outputs": [],
   "source": [
    "## IterReferenceInstances"
   ]
  },
  {
   "cell_type": "code",
   "execution_count": null,
   "metadata": {
    "collapsed": true
   },
   "outputs": [],
   "source": [
    "##IterReferencePaths"
   ]
  },
  {
   "cell_type": "code",
   "execution_count": null,
   "metadata": {
    "collapsed": true
   },
   "outputs": [],
   "source": [
    "##IterQueryInstances"
   ]
  },
  {
   "cell_type": "code",
   "execution_count": null,
   "metadata": {
    "collapsed": true
   },
   "outputs": [],
   "source": [
    "## Iter.. requests and list comprehension\n",
    "\n",
    "In addition to the for loop processor for getting object from the iterator returned by the Iter... call, a list\n",
    "comprehension can be use to perform the entire processing sequence in a single statement."
   ]
  },
  {
   "cell_type": "code",
   "execution_count": null,
   "metadata": {
    "collapsed": false
   },
   "outputs": [],
   "source": [
    "try:\n",
    "    paths = [path for path in conn.IterEnumerateInstancePaths(classname, MaxObjectCount=max_obj_cnt)]\n",
    "    print(*paths, sep='\\n')\n",
    "\n",
    "except pywbem.Error as exc:\n",
    "    print('Operation failed: %s' % exc)"
   ]
  },
  {
   "cell_type": "code",
   "execution_count": null,
   "metadata": {
    "collapsed": true
   },
   "outputs": [],
   "source": [
    "## Iter... Forcing use of Pull Operations"
   ]
  },
  {
   "cell_type": "code",
   "execution_count": null,
   "metadata": {
    "collapsed": true
   },
   "outputs": [],
   "source": [
    "TODO example of forcing particular operation type"
   ]
  }
 ],
 "metadata": {
  "kernelspec": {
   "display_name": "Python 2",
   "language": "python",
   "name": "python2"
  },
  "language_info": {
   "codemirror_mode": {
    "name": "ipython",
    "version": 2
   },
   "file_extension": ".py",
   "mimetype": "text/x-python",
   "name": "python",
   "nbconvert_exporter": "python",
   "pygments_lexer": "ipython2",
   "version": "2.7.6"
  }
 },
 "nbformat": 4,
 "nbformat_minor": 1
}
